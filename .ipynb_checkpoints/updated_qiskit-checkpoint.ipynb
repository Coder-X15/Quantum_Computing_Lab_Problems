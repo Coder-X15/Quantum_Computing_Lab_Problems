{
 "cells": [
  {
   "cell_type": "markdown",
   "id": "2dad22b1-dc4a-4414-a129-f06108645ea0",
   "metadata": {},
   "source": [
    "Ref: [IBM Quantum Cloud Documentation | Hello World](https://quantum.cloud.ibm.com/docs/en/tutorials/hello-world)"
   ]
  },
  {
   "cell_type": "code",
   "execution_count": 1,
   "id": "31292c93-6e4b-4e68-8d58-26780a8b32e2",
   "metadata": {},
   "outputs": [
    {
     "name": "stderr",
     "output_type": "stream",
     "text": [
      "\n",
      "[notice] A new release of pip is available: 25.1.1 -> 25.2\n",
      "[notice] To update, run: python.exe -m pip install --upgrade pip\n"
     ]
    },
    {
     "name": "stdout",
     "output_type": "stream",
     "text": [
      "Collecting qiskit-ibm-runtime\n",
      "  Downloading qiskit_ibm_runtime-0.41.1-py3-none-any.whl.metadata (21 kB)\n",
      "Requirement already satisfied: requests>=2.19 in c:\\users\\samru\\appdata\\local\\programs\\python\\python312\\lib\\site-packages (from qiskit-ibm-runtime) (2.32.3)\n",
      "Collecting requests-ntlm>=1.1.0 (from qiskit-ibm-runtime)\n",
      "  Downloading requests_ntlm-1.3.0-py3-none-any.whl.metadata (2.4 kB)\n",
      "Requirement already satisfied: numpy>=1.13 in c:\\users\\samru\\appdata\\local\\programs\\python\\python312\\lib\\site-packages (from qiskit-ibm-runtime) (1.26.4)\n",
      "Requirement already satisfied: urllib3>=1.21.1 in c:\\users\\samru\\appdata\\local\\programs\\python\\python312\\lib\\site-packages (from qiskit-ibm-runtime) (2.4.0)\n",
      "Requirement already satisfied: python-dateutil>=2.8.0 in c:\\users\\samru\\appdata\\local\\programs\\python\\python312\\lib\\site-packages (from qiskit-ibm-runtime) (2.9.0.post0)\n",
      "Collecting ibm-platform-services>=0.22.6 (from qiskit-ibm-runtime)\n",
      "  Downloading ibm_platform_services-0.68.3-py3-none-any.whl.metadata (9.0 kB)\n",
      "Requirement already satisfied: pydantic>=2.5.0 in c:\\users\\samru\\appdata\\local\\programs\\python\\python312\\lib\\site-packages (from qiskit-ibm-runtime) (2.11.7)\n",
      "Requirement already satisfied: qiskit>=1.4.1 in c:\\users\\samru\\appdata\\local\\programs\\python\\python312\\lib\\site-packages (from qiskit-ibm-runtime) (2.1.2)\n",
      "Requirement already satisfied: packaging in c:\\users\\samru\\appdata\\local\\programs\\python\\python312\\lib\\site-packages (from qiskit-ibm-runtime) (23.2)\n",
      "Collecting ibm_cloud_sdk_core<4.0.0,>=3.24.2 (from ibm-platform-services>=0.22.6->qiskit-ibm-runtime)\n",
      "  Downloading ibm_cloud_sdk_core-3.24.2-py3-none-any.whl.metadata (8.7 kB)\n",
      "Collecting requests>=2.19 (from qiskit-ibm-runtime)\n",
      "  Downloading requests-2.32.5-py3-none-any.whl.metadata (4.9 kB)\n",
      "Requirement already satisfied: PyJWT<3.0.0,>=2.10.1 in c:\\users\\samru\\appdata\\local\\programs\\python\\python312\\lib\\site-packages (from ibm_cloud_sdk_core<4.0.0,>=3.24.2->ibm-platform-services>=0.22.6->qiskit-ibm-runtime) (2.10.1)\n",
      "Requirement already satisfied: six>=1.5 in c:\\users\\samru\\appdata\\local\\programs\\python\\python312\\lib\\site-packages (from python-dateutil>=2.8.0->qiskit-ibm-runtime) (1.16.0)\n",
      "Requirement already satisfied: charset_normalizer<4,>=2 in c:\\users\\samru\\appdata\\local\\programs\\python\\python312\\lib\\site-packages (from requests>=2.19->qiskit-ibm-runtime) (2.0.12)\n",
      "Requirement already satisfied: idna<4,>=2.5 in c:\\users\\samru\\appdata\\local\\programs\\python\\python312\\lib\\site-packages (from requests>=2.19->qiskit-ibm-runtime) (3.10)\n",
      "Requirement already satisfied: certifi>=2017.4.17 in c:\\users\\samru\\appdata\\local\\programs\\python\\python312\\lib\\site-packages (from requests>=2.19->qiskit-ibm-runtime) (2024.8.30)\n",
      "Requirement already satisfied: annotated-types>=0.6.0 in c:\\users\\samru\\appdata\\local\\programs\\python\\python312\\lib\\site-packages (from pydantic>=2.5.0->qiskit-ibm-runtime) (0.7.0)\n",
      "Requirement already satisfied: pydantic-core==2.33.2 in c:\\users\\samru\\appdata\\local\\programs\\python\\python312\\lib\\site-packages (from pydantic>=2.5.0->qiskit-ibm-runtime) (2.33.2)\n",
      "Requirement already satisfied: typing-extensions>=4.12.2 in c:\\users\\samru\\appdata\\local\\programs\\python\\python312\\lib\\site-packages (from pydantic>=2.5.0->qiskit-ibm-runtime) (4.12.2)\n",
      "Requirement already satisfied: typing-inspection>=0.4.0 in c:\\users\\samru\\appdata\\local\\programs\\python\\python312\\lib\\site-packages (from pydantic>=2.5.0->qiskit-ibm-runtime) (0.4.1)\n",
      "Requirement already satisfied: rustworkx>=0.15.0 in c:\\users\\samru\\appdata\\local\\programs\\python\\python312\\lib\\site-packages (from qiskit>=1.4.1->qiskit-ibm-runtime) (0.17.1)\n",
      "Requirement already satisfied: scipy>=1.5 in c:\\users\\samru\\appdata\\local\\programs\\python\\python312\\lib\\site-packages (from qiskit>=1.4.1->qiskit-ibm-runtime) (1.14.1)\n",
      "Requirement already satisfied: dill>=0.3 in c:\\users\\samru\\appdata\\local\\programs\\python\\python312\\lib\\site-packages (from qiskit>=1.4.1->qiskit-ibm-runtime) (0.4.0)\n",
      "Requirement already satisfied: stevedore>=3.0.0 in c:\\users\\samru\\appdata\\local\\programs\\python\\python312\\lib\\site-packages (from qiskit>=1.4.1->qiskit-ibm-runtime) (5.5.0)\n",
      "Requirement already satisfied: cryptography>=1.3 in c:\\users\\samru\\appdata\\local\\programs\\python\\python312\\lib\\site-packages (from requests-ntlm>=1.1.0->qiskit-ibm-runtime) (44.0.2)\n",
      "Collecting pyspnego>=0.4.0 (from requests-ntlm>=1.1.0->qiskit-ibm-runtime)\n",
      "  Downloading pyspnego-0.12.0-py3-none-any.whl.metadata (4.1 kB)\n",
      "Requirement already satisfied: cffi>=1.12 in c:\\users\\samru\\appdata\\local\\programs\\python\\python312\\lib\\site-packages (from cryptography>=1.3->requests-ntlm>=1.1.0->qiskit-ibm-runtime) (1.17.1)\n",
      "Requirement already satisfied: pycparser in c:\\users\\samru\\appdata\\local\\programs\\python\\python312\\lib\\site-packages (from cffi>=1.12->cryptography>=1.3->requests-ntlm>=1.1.0->qiskit-ibm-runtime) (2.22)\n",
      "Collecting sspilib>=0.3.0 (from pyspnego>=0.4.0->requests-ntlm>=1.1.0->qiskit-ibm-runtime)\n",
      "  Downloading sspilib-0.4.0-cp312-cp312-win_amd64.whl.metadata (6.2 kB)\n",
      "Downloading qiskit_ibm_runtime-0.41.1-py3-none-any.whl (1.4 MB)\n",
      "   ---------------------------------------- 0.0/1.4 MB ? eta -:--:--\n",
      "   ----------------------------- ---------- 1.0/1.4 MB 6.3 MB/s eta 0:00:01\n",
      "   ---------------------------------------- 1.4/1.4 MB 5.7 MB/s eta 0:00:00\n",
      "Downloading ibm_platform_services-0.68.3-py3-none-any.whl (366 kB)\n",
      "Downloading ibm_cloud_sdk_core-3.24.2-py3-none-any.whl (75 kB)\n",
      "Downloading requests-2.32.5-py3-none-any.whl (64 kB)\n",
      "Downloading requests_ntlm-1.3.0-py3-none-any.whl (6.6 kB)\n",
      "Downloading pyspnego-0.12.0-py3-none-any.whl (130 kB)\n",
      "Downloading sspilib-0.4.0-cp312-cp312-win_amd64.whl (575 kB)\n",
      "   ---------------------------------------- 0.0/575.8 kB ? eta -:--:--\n",
      "   ---------------------------------------- 575.8/575.8 kB 6.7 MB/s eta 0:00:00\n",
      "Installing collected packages: sspilib, requests, ibm_cloud_sdk_core, pyspnego, ibm-platform-services, requests-ntlm, qiskit-ibm-runtime\n",
      "\n",
      "   ---------------------------------------- 0/7 [sspilib]\n",
      "  Attempting uninstall: requests\n",
      "   ---------------------------------------- 0/7 [sspilib]\n",
      "    Found existing installation: requests 2.32.3\n",
      "   ---------------------------------------- 0/7 [sspilib]\n",
      "    Uninstalling requests-2.32.3:\n",
      "   ---------------------------------------- 0/7 [sspilib]\n",
      "      Successfully uninstalled requests-2.32.3\n",
      "   ---------------------------------------- 0/7 [sspilib]\n",
      "   ----- ---------------------------------- 1/7 [requests]\n",
      "   ----- ---------------------------------- 1/7 [requests]\n",
      "   ----- ---------------------------------- 1/7 [requests]\n",
      "   ----- ---------------------------------- 1/7 [requests]\n",
      "   ----------- ---------------------------- 2/7 [ibm_cloud_sdk_core]\n",
      "   ----------- ---------------------------- 2/7 [ibm_cloud_sdk_core]\n",
      "   ----------- ---------------------------- 2/7 [ibm_cloud_sdk_core]\n",
      "   ----------- ---------------------------- 2/7 [ibm_cloud_sdk_core]\n",
      "   ----------- ---------------------------- 2/7 [ibm_cloud_sdk_core]\n",
      "   ----------- ---------------------------- 2/7 [ibm_cloud_sdk_core]\n",
      "   ----------------- ---------------------- 3/7 [pyspnego]\n",
      "   ----------------- ---------------------- 3/7 [pyspnego]\n",
      "   ----------------- ---------------------- 3/7 [pyspnego]\n",
      "   ----------------- ---------------------- 3/7 [pyspnego]\n",
      "   ----------------- ---------------------- 3/7 [pyspnego]\n",
      "   ----------------- ---------------------- 3/7 [pyspnego]\n",
      "   ----------------- ---------------------- 3/7 [pyspnego]\n",
      "   ----------------- ---------------------- 3/7 [pyspnego]\n",
      "   ---------------------- ----------------- 4/7 [ibm-platform-services]\n",
      "   ---------------------- ----------------- 4/7 [ibm-platform-services]\n",
      "   ---------------------- ----------------- 4/7 [ibm-platform-services]\n",
      "   ---------------------- ----------------- 4/7 [ibm-platform-services]\n",
      "   ---------------------- ----------------- 4/7 [ibm-platform-services]\n",
      "   ---------------------- ----------------- 4/7 [ibm-platform-services]\n",
      "   ---------------------- ----------------- 4/7 [ibm-platform-services]\n",
      "   ---------------------- ----------------- 4/7 [ibm-platform-services]\n",
      "   ---------------------- ----------------- 4/7 [ibm-platform-services]\n",
      "   ---------------------------- ----------- 5/7 [requests-ntlm]\n",
      "   ---------------------------------- ----- 6/7 [qiskit-ibm-runtime]\n",
      "   ---------------------------------- ----- 6/7 [qiskit-ibm-runtime]\n",
      "   ---------------------------------- ----- 6/7 [qiskit-ibm-runtime]\n",
      "   ---------------------------------- ----- 6/7 [qiskit-ibm-runtime]\n",
      "   ---------------------------------- ----- 6/7 [qiskit-ibm-runtime]\n",
      "   ---------------------------------- ----- 6/7 [qiskit-ibm-runtime]\n",
      "   ---------------------------------- ----- 6/7 [qiskit-ibm-runtime]\n",
      "   ---------------------------------- ----- 6/7 [qiskit-ibm-runtime]\n",
      "   ---------------------------------- ----- 6/7 [qiskit-ibm-runtime]\n",
      "   ---------------------------------- ----- 6/7 [qiskit-ibm-runtime]\n",
      "   ---------------------------------- ----- 6/7 [qiskit-ibm-runtime]\n",
      "   ---------------------------------- ----- 6/7 [qiskit-ibm-runtime]\n",
      "   ---------------------------------- ----- 6/7 [qiskit-ibm-runtime]\n",
      "   ---------------------------------- ----- 6/7 [qiskit-ibm-runtime]\n",
      "   ---------------------------------- ----- 6/7 [qiskit-ibm-runtime]\n",
      "   ---------------------------------- ----- 6/7 [qiskit-ibm-runtime]\n",
      "   ---------------------------------- ----- 6/7 [qiskit-ibm-runtime]\n",
      "   ---------------------------------- ----- 6/7 [qiskit-ibm-runtime]\n",
      "   ---------------------------------- ----- 6/7 [qiskit-ibm-runtime]\n",
      "   ---------------------------------- ----- 6/7 [qiskit-ibm-runtime]\n",
      "   ---------------------------------- ----- 6/7 [qiskit-ibm-runtime]\n",
      "   ---------------------------------- ----- 6/7 [qiskit-ibm-runtime]\n",
      "   ---------------------------------- ----- 6/7 [qiskit-ibm-runtime]\n",
      "   ---------------------------------- ----- 6/7 [qiskit-ibm-runtime]\n",
      "   ---------------------------------- ----- 6/7 [qiskit-ibm-runtime]\n",
      "   ---------------------------------- ----- 6/7 [qiskit-ibm-runtime]\n",
      "   ---------------------------------- ----- 6/7 [qiskit-ibm-runtime]\n",
      "   ---------------------------------- ----- 6/7 [qiskit-ibm-runtime]\n",
      "   ---------------------------------- ----- 6/7 [qiskit-ibm-runtime]\n",
      "   ---------------------------------- ----- 6/7 [qiskit-ibm-runtime]\n",
      "   ---------------------------------- ----- 6/7 [qiskit-ibm-runtime]\n",
      "   ---------------------------------- ----- 6/7 [qiskit-ibm-runtime]\n",
      "   ---------------------------------- ----- 6/7 [qiskit-ibm-runtime]\n",
      "   ---------------------------------- ----- 6/7 [qiskit-ibm-runtime]\n",
      "   ---------------------------------- ----- 6/7 [qiskit-ibm-runtime]\n",
      "   ---------------------------------- ----- 6/7 [qiskit-ibm-runtime]\n",
      "   ---------------------------------- ----- 6/7 [qiskit-ibm-runtime]\n",
      "   ---------------------------------------- 7/7 [qiskit-ibm-runtime]\n",
      "\n",
      "Successfully installed ibm-platform-services-0.68.3 ibm_cloud_sdk_core-3.24.2 pyspnego-0.12.0 qiskit-ibm-runtime-0.41.1 requests-2.32.5 requests-ntlm-1.3.0 sspilib-0.4.0\n"
     ]
    },
    {
     "name": "stderr",
     "output_type": "stream",
     "text": [
      "ERROR: pip's dependency resolver does not currently take into account all the packages that are installed. This behaviour is the source of the following dependency conflicts.\n",
      "google-cloud-bigquery 3.31.0 requires packaging>=24.2.0, but you have packaging 23.2 which is incompatible.\n",
      "\n",
      "[notice] A new release of pip is available: 25.1.1 -> 25.2\n",
      "[notice] To update, run: python.exe -m pip install --upgrade pip\n"
     ]
    },
    {
     "name": "stdout",
     "output_type": "stream",
     "text": [
      "Requirement already satisfied: qiskit[visualization] in c:\\users\\samru\\appdata\\local\\programs\\python\\python312\\lib\\site-packages (2.1.2)\n",
      "Requirement already satisfied: rustworkx>=0.15.0 in c:\\users\\samru\\appdata\\local\\programs\\python\\python312\\lib\\site-packages (from qiskit[visualization]) (0.17.1)\n",
      "Requirement already satisfied: numpy<3,>=1.17 in c:\\users\\samru\\appdata\\local\\programs\\python\\python312\\lib\\site-packages (from qiskit[visualization]) (1.26.4)\n",
      "Requirement already satisfied: scipy>=1.5 in c:\\users\\samru\\appdata\\local\\programs\\python\\python312\\lib\\site-packages (from qiskit[visualization]) (1.14.1)\n",
      "Requirement already satisfied: dill>=0.3 in c:\\users\\samru\\appdata\\local\\programs\\python\\python312\\lib\\site-packages (from qiskit[visualization]) (0.4.0)\n",
      "Requirement already satisfied: stevedore>=3.0.0 in c:\\users\\samru\\appdata\\local\\programs\\python\\python312\\lib\\site-packages (from qiskit[visualization]) (5.5.0)\n",
      "Requirement already satisfied: typing-extensions in c:\\users\\samru\\appdata\\local\\programs\\python\\python312\\lib\\site-packages (from qiskit[visualization]) (4.12.2)\n",
      "Requirement already satisfied: matplotlib>=3.3 in c:\\users\\samru\\appdata\\local\\programs\\python\\python312\\lib\\site-packages (from qiskit[visualization]) (3.10.1)\n",
      "Collecting pydot (from qiskit[visualization])\n",
      "  Downloading pydot-4.0.1-py3-none-any.whl.metadata (11 kB)\n",
      "Requirement already satisfied: Pillow>=4.2.1 in c:\\users\\samru\\appdata\\local\\programs\\python\\python312\\lib\\site-packages (from qiskit[visualization]) (10.4.0)\n",
      "Requirement already satisfied: pylatexenc>=1.4 in c:\\users\\samru\\appdata\\local\\programs\\python\\python312\\lib\\site-packages (from qiskit[visualization]) (2.10)\n",
      "Collecting seaborn>=0.9.0 (from qiskit[visualization])\n",
      "  Downloading seaborn-0.13.2-py3-none-any.whl.metadata (5.4 kB)\n",
      "Requirement already satisfied: sympy>=1.3 in c:\\users\\samru\\appdata\\local\\programs\\python\\python312\\lib\\site-packages (from qiskit[visualization]) (1.13.3)\n",
      "Requirement already satisfied: contourpy>=1.0.1 in c:\\users\\samru\\appdata\\local\\programs\\python\\python312\\lib\\site-packages (from matplotlib>=3.3->qiskit[visualization]) (1.3.0)\n",
      "Requirement already satisfied: cycler>=0.10 in c:\\users\\samru\\appdata\\local\\programs\\python\\python312\\lib\\site-packages (from matplotlib>=3.3->qiskit[visualization]) (0.12.1)\n",
      "Requirement already satisfied: fonttools>=4.22.0 in c:\\users\\samru\\appdata\\local\\programs\\python\\python312\\lib\\site-packages (from matplotlib>=3.3->qiskit[visualization]) (4.54.1)\n",
      "Requirement already satisfied: kiwisolver>=1.3.1 in c:\\users\\samru\\appdata\\local\\programs\\python\\python312\\lib\\site-packages (from matplotlib>=3.3->qiskit[visualization]) (1.4.7)\n",
      "Requirement already satisfied: packaging>=20.0 in c:\\users\\samru\\appdata\\local\\programs\\python\\python312\\lib\\site-packages (from matplotlib>=3.3->qiskit[visualization]) (23.2)\n",
      "Requirement already satisfied: pyparsing>=2.3.1 in c:\\users\\samru\\appdata\\local\\programs\\python\\python312\\lib\\site-packages (from matplotlib>=3.3->qiskit[visualization]) (3.1.4)\n",
      "Requirement already satisfied: python-dateutil>=2.7 in c:\\users\\samru\\appdata\\local\\programs\\python\\python312\\lib\\site-packages (from matplotlib>=3.3->qiskit[visualization]) (2.9.0.post0)\n",
      "Requirement already satisfied: six>=1.5 in c:\\users\\samru\\appdata\\local\\programs\\python\\python312\\lib\\site-packages (from python-dateutil>=2.7->matplotlib>=3.3->qiskit[visualization]) (1.16.0)\n",
      "Requirement already satisfied: pandas>=1.2 in c:\\users\\samru\\appdata\\local\\programs\\python\\python312\\lib\\site-packages (from seaborn>=0.9.0->qiskit[visualization]) (2.2.3)\n",
      "Requirement already satisfied: pytz>=2020.1 in c:\\users\\samru\\appdata\\local\\programs\\python\\python312\\lib\\site-packages (from pandas>=1.2->seaborn>=0.9.0->qiskit[visualization]) (2024.2)\n",
      "Requirement already satisfied: tzdata>=2022.7 in c:\\users\\samru\\appdata\\local\\programs\\python\\python312\\lib\\site-packages (from pandas>=1.2->seaborn>=0.9.0->qiskit[visualization]) (2024.2)\n",
      "Requirement already satisfied: mpmath<1.4,>=1.1.0 in c:\\users\\samru\\appdata\\local\\programs\\python\\python312\\lib\\site-packages (from sympy>=1.3->qiskit[visualization]) (1.3.0)\n",
      "Downloading seaborn-0.13.2-py3-none-any.whl (294 kB)\n",
      "Downloading pydot-4.0.1-py3-none-any.whl (37 kB)\n",
      "Installing collected packages: pydot, seaborn\n",
      "\n",
      "   ---------------------------------------- 0/2 [pydot]\n",
      "   -------------------- ------------------- 1/2 [seaborn]\n",
      "   -------------------- ------------------- 1/2 [seaborn]\n",
      "   -------------------- ------------------- 1/2 [seaborn]\n",
      "   -------------------- ------------------- 1/2 [seaborn]\n",
      "   -------------------- ------------------- 1/2 [seaborn]\n",
      "   -------------------- ------------------- 1/2 [seaborn]\n",
      "   -------------------- ------------------- 1/2 [seaborn]\n",
      "   -------------------- ------------------- 1/2 [seaborn]\n",
      "   -------------------- ------------------- 1/2 [seaborn]\n",
      "   ---------------------------------------- 2/2 [seaborn]\n",
      "\n",
      "Successfully installed pydot-4.0.1 seaborn-0.13.2\n"
     ]
    },
    {
     "name": "stderr",
     "output_type": "stream",
     "text": [
      "\n",
      "[notice] A new release of pip is available: 25.1.1 -> 25.2\n",
      "[notice] To update, run: python.exe -m pip install --upgrade pip\n",
      "\n",
      "[notice] A new release of pip is available: 25.1.1 -> 25.2\n",
      "[notice] To update, run: python.exe -m pip install --upgrade pip\n"
     ]
    }
   ],
   "source": [
    "!pip -q install qiskit\n",
    "!pip -q install qiskit-ibm-runtime\n",
    "!pip -q install qiskit[visualization]\n",
    "!pip -q install pylatexenc"
   ]
  },
  {
   "cell_type": "code",
   "execution_count": 2,
   "id": "be3f52df-f9c8-4d3f-80b5-e6f679c2bf78",
   "metadata": {},
   "outputs": [
    {
     "name": "stdout",
     "output_type": "stream",
     "text": [
      "qiskit                             2.1.2\n",
      "qiskit-aer                         0.17.1\n",
      "qiskit-ibm-runtime                 0.41.1\n"
     ]
    }
   ],
   "source": [
    "!pip list | grep qiskit"
   ]
  },
  {
   "cell_type": "code",
   "execution_count": 4,
   "id": "a50eb326-2f5a-4e11-af2e-72d5c18747a5",
   "metadata": {},
   "outputs": [
    {
     "name": "stdout",
     "output_type": "stream",
     "text": [
      "pylatexenc                         2.10\n"
     ]
    }
   ],
   "source": [
    "!pip list | grep pylatexenc"
   ]
  },
  {
   "cell_type": "code",
   "execution_count": 3,
   "id": "af5ab76a-d997-4d80-a2ba-54ac72a6615e",
   "metadata": {},
   "outputs": [
    {
     "data": {
      "image/png": "[encoded data removed]",
      "text/plain": [
       "<Figure size 287.294x200.667 with 1 Axes>"
      ]
     },
     "execution_count": 3,
     "metadata": {},
     "output_type": "execute_result"
    }
   ],
   "source": [
    "from qiskit import QuantumCircuit\n",
    "from qiskit.quantum_info import SparsePauliOp\n",
    "from qiskit.transpiler import generate_preset_pass_manager\n",
    "from qiskit_ibm_runtime import EstimatorV2 as Estimator\n",
    " \n",
    "# Create a new circuit with two qubits\n",
    "qc = QuantumCircuit(2)\n",
    " \n",
    "# Add a Hadamard gate to qubit 0\n",
    "qc.h(0)\n",
    " \n",
    "# Perform a controlled-X gate on qubit 1, controlled by qubit 0\n",
    "qc.cx(0, 1)\n",
    " \n",
    "# Return a drawing of the circuit using MatPlotLib (\"mpl\").\n",
    "# These guides are written by using Jupyter notebooks, which\n",
    "# display the output of the last line of each cell.\n",
    "# If you're running this in a script, use `print(qc.draw())` to\n",
    "# print a text drawing.\n",
    "qc.draw(\"mpl\")"
   ]
  },
  {
   "cell_type": "code",
   "execution_count": 5,
   "id": "8829938f-e496-4557-8286-680ae82e35a1",
   "metadata": {},
   "outputs": [],
   "source": [
    "# Set up six different observables.\n",
    " \n",
    "observables_labels = [\"IZ\", \"IX\", \"ZI\", \"XI\", \"ZZ\", \"XX\"]\n",
    "observables = [SparsePauliOp(label) for label in observables_labels]"
   ]
  },
  {
   "cell_type": "code",
   "execution_count": null,
   "id": "69a7af07-ea8b-42f7-a1ca-35a07f6114fa",
   "metadata": {},
   "outputs": [],
   "source": []
  }
 ],
 "metadata": {
  "kernelspec": {
   "display_name": "Python 3 (ipykernel)",
   "language": "python",
   "name": "python3"
  },
  "language_info": {
   "codemirror_mode": {
    "name": "ipython",
    "version": 3
   },
   "file_extension": ".py",
   "mimetype": "text/x-python",
   "name": "python",
   "nbconvert_exporter": "python",
   "pygments_lexer": "ipython3",
   "version": "3.12.6"
  }
 },
 "nbformat": 4,
 "nbformat_minor": 5
}
