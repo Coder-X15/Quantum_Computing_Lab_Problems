{
 "cells": [
  {
   "cell_type": "markdown",
   "id": "2dad22b1-dc4a-4414-a129-f06108645ea0",
   "metadata": {},
   "source": [
    "Ref: [IBM Quantum Cloud Documentation | Hello World](https://quantum.cloud.ibm.com/docs/en/tutorials/hello-world)"
   ]
  },
  {
   "cell_type": "markdown",
   "id": "871d8554-77dd-4225-b947-431dd080e054",
   "metadata": {},
   "source": [
    "Submitted by: Sam Ruben Abraham, 2023BCD0002"
   ]
  },
  {
   "cell_type": "markdown",
   "id": "3c933f1f-5985-4113-ab42-7955294ff7e6",
   "metadata": {},
   "source": [
    "## Installations"
   ]
  },
  {
   "cell_type": "code",
   "execution_count": 18,
   "id": "31292c93-6e4b-4e68-8d58-26780a8b32e2",
   "metadata": {},
   "outputs": [
    {
     "name": "stderr",
     "output_type": "stream",
     "text": [
      "\n",
      "[notice] A new release of pip is available: 25.1.1 -> 25.2\n",
      "[notice] To update, run: python.exe -m pip install --upgrade pip\n",
      "\n",
      "[notice] A new release of pip is available: 25.1.1 -> 25.2\n",
      "[notice] To update, run: python.exe -m pip install --upgrade pip\n",
      "\n",
      "[notice] A new release of pip is available: 25.1.1 -> 25.2\n",
      "[notice] To update, run: python.exe -m pip install --upgrade pip\n",
      "\n",
      "[notice] A new release of pip is available: 25.1.1 -> 25.2\n",
      "[notice] To update, run: python.exe -m pip install --upgrade pip\n",
      "ERROR: Invalid requirement: '#': Expected package name at the start of dependency specifier\n",
      "    #\n",
      "    ^\n"
     ]
    }
   ],
   "source": [
    "!pip -q install qiskit\n",
    "!pip -q install qiskit-ibm-runtime\n",
    "!pip -q install qiskit[visualization]\n",
    "!pip -q install pylatexenc # umm not required ig??"
   ]
  },
  {
   "cell_type": "code",
   "execution_count": 2,
   "id": "be3f52df-f9c8-4d3f-80b5-e6f679c2bf78",
   "metadata": {},
   "outputs": [
    {
     "name": "stdout",
     "output_type": "stream",
     "text": [
      "qiskit                             2.1.2\n",
      "qiskit-aer                         0.17.1\n",
      "qiskit-ibm-runtime                 0.41.1\n"
     ]
    }
   ],
   "source": [
    "!pip list | grep qiskit"
   ]
  },
  {
   "cell_type": "code",
   "execution_count": 3,
   "id": "a50eb326-2f5a-4e11-af2e-72d5c18747a5",
   "metadata": {},
   "outputs": [
    {
     "name": "stdout",
     "output_type": "stream",
     "text": [
      "pylatexenc                         2.10\n"
     ]
    }
   ],
   "source": [
    "!pip list | grep pylatexenc"
   ]
  },
  {
   "cell_type": "markdown",
   "id": "0fb0e535-34dc-474a-9f41-2cd4bcf926ee",
   "metadata": {},
   "source": [
    "## Circuit Setup"
   ]
  },
  {
   "cell_type": "code",
   "execution_count": 4,
   "id": "af5ab76a-d997-4d80-a2ba-54ac72a6615e",
   "metadata": {},
   "outputs": [
    {
     "data": {
      "image/png": "[encoded data removed]",
      "text/plain": [
       "<Figure size 287.294x200.667 with 1 Axes>"
      ]
     },
     "execution_count": 4,
     "metadata": {},
     "output_type": "execute_result"
    }
   ],
   "source": [
    "from qiskit import QuantumCircuit\n",
    "from qiskit.quantum_info import SparsePauliOp\n",
    "from qiskit.transpiler import generate_preset_pass_manager\n",
    "from qiskit_ibm_runtime import EstimatorV2 as Estimator\n",
    " \n",
    "# Create a new circuit with two qubits\n",
    "qc = QuantumCircuit(2)\n",
    " \n",
    "# Add a Hadamard gate to qubit 0\n",
    "qc.h(0)\n",
    " \n",
    "# Perform a controlled-X gate on qubit 1, controlled by qubit 0\n",
    "qc.cx(0, 1)\n",
    " \n",
    "# Return a drawing of the circuit using MatPlotLib (\"mpl\").\n",
    "# These guides are written by using Jupyter notebooks, which\n",
    "# display the output of the last line of each cell.\n",
    "# If you're running this in a script, use `print(qc.draw())` to\n",
    "# print a text drawing.\n",
    "qc.draw(\"mpl\")"
   ]
  },
  {
   "cell_type": "markdown",
   "id": "17d705b4-bb45-496b-8e40-daa479de1884",
   "metadata": {},
   "source": [
    "## Loading Some Observables For Us to Graph"
   ]
  },
  {
   "cell_type": "code",
   "execution_count": null,
   "id": "f9677383-2c08-4e6f-84b8-ca884145e9aa",
   "metadata": {},
   "outputs": [],
   "source": [
    "# Set up six different observables.\n",
    " \n",
    "observables_labels = [\"IZ\", \"IX\", \"ZI\", \"XI\", \"ZZ\", \"XX\"]\n",
    "observables = [SparsePauliOp(label) for label in observables_labels]"
   ]
  },
  {
   "cell_type": "markdown",
   "id": "cbaf9fb0-8772-4306-a4e9-5ceb23ee8aa8",
   "metadata": {},
   "source": [
    "## Loading Up The IBM Quantm Runtime"
   ]
  },
  {
   "cell_type": "code",
   "execution_count": 11,
   "id": "0ab4514d-309e-49b7-9c8c-26e6d04b4491",
   "metadata": {},
   "outputs": [],
   "source": [
    "import json\n",
    "_token = json.load(open('apikey.json'))['apikey']"
   ]
  },
  {
   "cell_type": "code",
   "execution_count": 12,
   "id": "46da2c79-0062-4c0b-96b4-8ec1074ac6f5",
   "metadata": {},
   "outputs": [],
   "source": [
    "from qiskit_ibm_runtime import QiskitRuntimeService\n",
    "\n",
    "QiskitRuntimeService.save_account(\n",
    "channel=\"ibm_quantum_platform\",\n",
    "token=_token,\n",
    "set_as_default=True\n",
    ")"
   ]
  },
  {
   "cell_type": "markdown",
   "id": "db50a14d-907f-489f-a6bb-59e10de66048",
   "metadata": {},
   "source": [
    "### Test If It Works"
   ]
  },
  {
   "cell_type": "code",
   "execution_count": 13,
   "id": "59fcaef1-a9cc-4470-8cff-f71275442e11",
   "metadata": {},
   "outputs": [
    {
     "name": "stderr",
     "output_type": "stream",
     "text": [
      "qiskit_runtime_service._resolve_cloud_instances:WARNING:2025-09-25 12:28:37,521: Default instance not set. Searching all available instances.\n"
     ]
    },
    {
     "name": "stdout",
     "output_type": "stream",
     "text": [
      "['ibm_brisbane', 'ibm_torino']\n"
     ]
    }
   ],
   "source": [
    "service = QiskitRuntimeService()\n",
    "print([b.name for b in service.backends()])"
   ]
  },
  {
   "cell_type": "code",
   "execution_count": 14,
   "id": "36b89c73-85ed-4b62-907d-e50590705ec8",
   "metadata": {},
   "outputs": [
    {
     "data": {
      "text/plain": [
       "{'default-ibm-quantum-platform': {'channel': 'ibm_quantum_platform',\n",
       "  'url': 'https://cloud.ibm.com',\n",
       "  'token': 'E5ncvH1yxB9iOHanqW56I6SDgDs9lqaWBTUj-mhj0xar',\n",
       "  'verify': True,\n",
       "  'private_endpoint': False}}"
      ]
     },
     "execution_count": 14,
     "metadata": {},
     "output_type": "execute_result"
    }
   ],
   "source": [
    "QiskitRuntimeService.saved_accounts()"
   ]
  },
  {
   "cell_type": "markdown",
   "id": "8c265a9e-8ebc-47d5-8ba8-b301566d4cf8",
   "metadata": {},
   "source": [
    "## Acquiring a Backend for The Rest of The Example"
   ]
  },
  {
   "cell_type": "code",
   "execution_count": 16,
   "id": "b619784b-85ff-40ce-beaa-79a23280b185",
   "metadata": {},
   "outputs": [
    {
     "data": {
      "image/png": "[encoded data removed]",
      "text/plain": [
       "<Figure size 757.83x200.667 with 1 Axes>"
      ]
     },
     "execution_count": 16,
     "metadata": {},
     "output_type": "execute_result"
    }
   ],
   "source": [
    "backend = service.least_busy(simulator=False, operational=True) # uses the least busy server to optimize the circuit\n",
    " \n",
    "# Convert to an ISA circuit and layout-mapped observables.\n",
    "pm = generate_preset_pass_manager(backend=backend, optimization_level=1)\n",
    "isa_circuit = pm.run(qc)\n",
    " \n",
    "isa_circuit.draw(\"mpl\", idle_wires=False)"
   ]
  },
  {
   "cell_type": "markdown",
   "id": "b1bf30e0-8060-4985-81bd-c0530138fc5b",
   "metadata": {},
   "source": [
    "## Execution!!"
   ]
  },
  {
   "cell_type": "code",
   "execution_count": 17,
   "id": "53479b10-8732-4e85-9f49-554f150069be",
   "metadata": {},
   "outputs": [
    {
     "name": "stdout",
     "output_type": "stream",
     "text": [
      ">>> Job ID: d3aeli6lahfs739uvoj0\n"
     ]
    }
   ],
   "source": [
    "# Construct the Estimator instance.\n",
    " \n",
    "estimator = Estimator(mode=backend)\n",
    "estimator.options.resilience_level = 1\n",
    "estimator.options.default_shots = 5000\n",
    " \n",
    "mapped_observables = [\n",
    "    observable.apply_layout(isa_circuit.layout) for observable in observables\n",
    "]\n",
    " \n",
    "# One pub, with one circuit to run against five different observables.\n",
    "job = estimator.run([(isa_circuit, mapped_observables)])\n",
    " \n",
    "# Use the job ID to retrieve your job data later\n",
    "print(f\">>> Job ID: {job.job_id()}\")"
   ]
  },
  {
   "cell_type": "markdown",
   "id": "d006c417-bd00-441c-a1c7-100876317fce",
   "metadata": {},
   "source": [
    "## Results Time!!"
   ]
  },
  {
   "cell_type": "code",
   "execution_count": 20,
   "id": "41d6c4f8-d8d3-4b02-934e-449ed16e98de",
   "metadata": {},
   "outputs": [],
   "source": [
    "# This is the result of the entire submission.  You submitted one Pub,\n",
    "# so this contains one inner result (and some metadata of its own).\n",
    "job_result = job.result()\n",
    " \n",
    "# This is the result from our single pub, which had six observables,\n",
    "# so contains information on all six.\n",
    "pub_result = job.result()[0]"
   ]
  },
  {
   "cell_type": "code",
   "execution_count": 21,
   "id": "e4ae1c0c-f8a1-4a48-924f-651496a1e491",
   "metadata": {},
   "outputs": [
    {
     "data": {
      "image/png": "[encoded data removed]",
      "text/plain": [
       "<Figure size 640x480 with 1 Axes>"
      ]
     },
     "metadata": {},
     "output_type": "display_data"
    }
   ],
   "source": [
    "# Plot the result\n",
    " \n",
    "from matplotlib import pyplot as plt\n",
    " \n",
    "values = pub_result.data.evs\n",
    " \n",
    "errors = pub_result.data.stds\n",
    " \n",
    "# plotting graph\n",
    "plt.plot(observables_labels, values, \"-o\")\n",
    "plt.xlabel(\"Observables\")\n",
    "plt.ylabel(\"Values\")\n",
    "plt.show()"
   ]
  },
  {
   "cell_type": "markdown",
   "id": "2b700706-4c74-4413-890a-6af85aaf542f",
   "metadata": {},
   "source": [
    "Notice that for qubits $0$ and $1$, the independent expectation values of both $X$ and $Z$ are $0$, while the correlations ($XX$ and $ZZ$) are $1$. This is a hallmark of quantum entanglement. - Conclusion from the Hello World program"
   ]
  },
  {
   "cell_type": "code",
   "execution_count": null,
   "id": "07474552-dcb6-4d1d-89f6-46e3f8ed7ed4",
   "metadata": {},
   "outputs": [],
   "source": []
  }
 ],
 "metadata": {
  "kernelspec": {
   "display_name": "Python 3 (ipykernel)",
   "language": "python",
   "name": "python3"
  },
  "language_info": {
   "codemirror_mode": {
    "name": "ipython",
    "version": 3
   },
   "file_extension": ".py",
   "mimetype": "text/x-python",
   "name": "python",
   "nbconvert_exporter": "python",
   "pygments_lexer": "ipython3",
   "version": "3.12.6"
  }
 },
 "nbformat": 4,
 "nbformat_minor": 5
}
